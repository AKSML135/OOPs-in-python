{
 "cells": [
  {
   "cell_type": "markdown",
   "id": "383bbf6a",
   "metadata": {},
   "source": [
    "**REFERENCE VARIABLE**\n",
    "\n",
    "- Lets suppose we create a variable Atm() . without creating variable , it will be created but we cannot access it . To access it we create variable so that it can point the location of the object. \n",
    "\n",
    "- This variable is called REFERANCE VARIABLE"
   ]
  },
  {
   "cell_type": "code",
   "execution_count": 1,
   "id": "f7b96bb0",
   "metadata": {},
   "outputs": [],
   "source": [
    "class Customer:\n",
    "    def __init__(self, name, gender):\n",
    "        self.name = name\n",
    "        self.gender = gender\n",
    "        \n",
    "def greet(customer):\n",
    "    if customer.gender == 'Male':\n",
    "        print(\"Hello !\", customer.name , \"Sir\")\n",
    "    else:\n",
    "        print(\"Hello! \", customer.name, \"ma'ám\")"
   ]
  },
  {
   "cell_type": "code",
   "execution_count": 2,
   "id": "29888734",
   "metadata": {},
   "outputs": [
    {
     "data": {
      "text/plain": [
       "'Siri'"
      ]
     },
     "execution_count": 2,
     "metadata": {},
     "output_type": "execute_result"
    }
   ],
   "source": [
    "cust = Customer('Siri','FeMale')\n",
    "cust.name"
   ]
  },
  {
   "cell_type": "code",
   "execution_count": 3,
   "id": "a105a46b",
   "metadata": {},
   "outputs": [
    {
     "name": "stdout",
     "output_type": "stream",
     "text": [
      "Hello!  Siri ma'ám\n"
     ]
    }
   ],
   "source": [
    "greet(cust)"
   ]
  },
  {
   "cell_type": "markdown",
   "id": "d7b51874",
   "metadata": {},
   "source": [
    "**PASS BY REFERENCE**\n",
    "- If we pass a reference of a variable to a function , in below example cust is passed as reference variable , \n",
    "- then if we modify the the attribute of referenced object , in actual object also the value will change\n",
    "- Reason is they both are pointing to same location.\n",
    "- Also after changing the attribute , if I am trying to fetch id , it will remain same , that means **CLASS OBJECTS ARE MUTABLE AS I CAN CHANGE THE ATTRIBUTE OF A VARIABLE AND AFTER CHANGE THE IT IS STILL POINTING TO SAME LOCATION**"
   ]
  },
  {
   "cell_type": "code",
   "execution_count": 9,
   "id": "fc7aac22",
   "metadata": {},
   "outputs": [
    {
     "name": "stdout",
     "output_type": "stream",
     "text": [
      "2572131360384\n",
      "2572131360384\n",
      "2572131360384\n",
      "Chaman\n"
     ]
    }
   ],
   "source": [
    "class Customer:\n",
    "    def __init__(self, name):\n",
    "        self.name = name\n",
    "#        self.gender = gender\n",
    "\n",
    "cust= Customer(\"Aman\")\n",
    "\n",
    "def greet(customer):   \n",
    "    print(id(customer))  #id of passed reference variable\n",
    "    customer.name = \"Chaman\"   #changed the attribute of reference variable\n",
    "    print(id(customer))\n",
    "    \n",
    "print(id(cust))  #id of variable\n",
    "greet(cust) #passing reference variable of Customer class to a function\n",
    "\n",
    "print(cust.name)      #it will now point to print new name"
   ]
  },
  {
   "cell_type": "markdown",
   "id": "4d29cfed",
   "metadata": {},
   "source": [
    "**STATIC KEYWORD**\n",
    "- Let suppose I want to create a serial number for each object getting created.\n",
    "- INSTANCE VARIABLE is a variable for which value of variabe is different for different objects. example - pin, balance\n",
    "\n",
    "- **STATIC VARIABLE / CLASS VARIABLE** is a variable for which value of variable is same for all objects - example - serial number\n",
    "  example - IFSC CODE FOR A BANK, BRANCH NAME., DEGREE IN COLLEGE\n",
    "- **STATIC VARIABLE** is always outside the constructor and to call we dont use self keyword, we use Classname_varname, also we make sure we add __ in front so that it becomes private and nobody can touch it.\n",
    "- id we want __ to be accessed , we can create getter and setter method\n",
    "\n",
    "- **STATIC METHOD** are those methods which donot require object instance. hence we cannot modify instance variable within it but we can modify static variable within it"
   ]
  },
  {
   "cell_type": "code",
   "execution_count": 16,
   "id": "10ea1bd6",
   "metadata": {},
   "outputs": [],
   "source": [
    "class Atm:\n",
    "    \n",
    "    __counter = 0\n",
    "    \n",
    "    def __init__(self):\n",
    "        self.__pin=\"\"\n",
    "        self.__balance = 0\n",
    "        \n",
    "        self.serial_no = Atm.__counter\n",
    "        Atm.__counter+=1\n",
    "    \n",
    "    @staticmethod\n",
    "    def get_counter():\n",
    "        return Atm.__counter\n",
    "        \n",
    "    def get_pin(self):\n",
    "        return self.pin\n",
    "    def set_pin(self, new_pin):\n",
    "        self.pin = new_pin\n",
    "        print(\"pin changed\")"
   ]
  },
  {
   "cell_type": "code",
   "execution_count": 17,
   "id": "79fbae2e",
   "metadata": {},
   "outputs": [],
   "source": [
    "cus1 = Atm()\n",
    "cus2 = Atm()\n",
    "cus3 = Atm()"
   ]
  },
  {
   "cell_type": "code",
   "execution_count": 18,
   "id": "ba19e92a",
   "metadata": {},
   "outputs": [
    {
     "name": "stdout",
     "output_type": "stream",
     "text": [
      "0\n",
      "1\n",
      "2\n"
     ]
    }
   ],
   "source": [
    "print(cus1.serial_no)\n",
    "print(cus2.serial_no)\n",
    "print(cus3.serial_no)"
   ]
  },
  {
   "cell_type": "code",
   "execution_count": 22,
   "id": "43837e8d",
   "metadata": {},
   "outputs": [
    {
     "name": "stdout",
     "output_type": "stream",
     "text": [
      "3\n",
      "3\n"
     ]
    }
   ],
   "source": [
    "print(cus1.get_counter()) #can be called using object\n",
    "print(Atm.get_counter())  # can be called directly using class since it is STATIC METHOD"
   ]
  },
  {
   "cell_type": "code",
   "execution_count": null,
   "id": "0a1c054f",
   "metadata": {},
   "outputs": [],
   "source": []
  }
 ],
 "metadata": {
  "kernelspec": {
   "display_name": "Python 3 (ipykernel)",
   "language": "python",
   "name": "python3"
  },
  "language_info": {
   "codemirror_mode": {
    "name": "ipython",
    "version": 3
   },
   "file_extension": ".py",
   "mimetype": "text/x-python",
   "name": "python",
   "nbconvert_exporter": "python",
   "pygments_lexer": "ipython3",
   "version": "3.9.7"
  }
 },
 "nbformat": 4,
 "nbformat_minor": 5
}

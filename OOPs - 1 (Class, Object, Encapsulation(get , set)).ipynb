{
 "cells": [
  {
   "cell_type": "markdown",
   "id": "806171b9",
   "metadata": {},
   "source": [
    "1. **OOPS** is different style of writing code, everything is object in python. \n",
    "\n",
    "2. **CLASS** -> A blueprint , every object belongs to class. in python if we do a=3, then a is a variable referencing to a integer object and that object belongs to int class.\n",
    "\n",
    "3. CLASS has 2 things -> Data or property and Function or behaviour , only two.\n",
    "   example - class - Car , Data = no. of wheels, no. of seats, no. of AC\n",
    "             Behaviour = show_mileage, blow_horn etc\n",
    "             \n",
    "   syntax:\n",
    "   \n",
    "   class Car:\n",
    "       color = \"Blue\"                            ---> data/property\n",
    "       def show_avg_speed():                     ---> Behaviour\n",
    "           print(\"Avg speed is ->\")\n",
    "\n",
    "4. **Object** - Instance of class.\n",
    "    Syntax :\n",
    "    wagorR = Car()\n",
    "    \n",
    "**Question : if every datatype is a class then why we do L = [] instead of L= list()**\n",
    "- Answer : Because for built in class we use OBJECT LITERAL feature which help us to create objects easily in easy notation.      But we can use l=list() or s = str() as well"
   ]
  },
  {
   "cell_type": "markdown",
   "id": "3cedc53d",
   "metadata": {},
   "source": [
    "- Lets make a ATM machine using oops which will have data = PIN , Balance and some functions\n",
    "\n",
    "**Question: What is the difference between function and methods**\n",
    "- Answer : * Method is a special function that is written inside a class.\n",
    "           * calling function is different calling method -> \n",
    "             len(L)     -> Function which is not present in list class\n",
    "             L.append() -> Method which is present inside list class"
   ]
  },
  {
   "cell_type": "markdown",
   "id": "6c78f809",
   "metadata": {},
   "source": [
    "#### Terminologies\n",
    "1. **def  __init()__**  --> a special method of a class called as Constructor. Whatever code written inside it will be executed automatically whenever we create object of class, we need not call it.\n",
    "- A **Constructor** is a magic method / Dunder method(start end with __) ->These special or dunder methods are not called by object, it gets triggered automatically.\n",
    "- Application of constructor - we write those code inside constructor which we do not want user to access. Example when we are opening OLA app , a object is getting created, we don't want user to \"give permission to access database\" or \"give permission to use gps\". we want to run it automatically.\n",
    "\n",
    "2. **self** --> self is a object that points to current object. If we write id(self) and id(sbi), we will get same output. that means sbi and self are same.If we create another object hdfc = atm() then id(self) = id(hdfc), as hdfc is current object.\n",
    "- So if we do not provide any self for method inside , it will throw us error, because whenever we call a method like sbi.create_pin() , by default it sends sbi as a argument"
   ]
  },
  {
   "cell_type": "code",
   "execution_count": 5,
   "id": "c3bcfece",
   "metadata": {},
   "outputs": [],
   "source": [
    "class Atm:\n",
    "    def __init__(self):  #we declare our data inside a special function init\n",
    "        self.pin = \"\"\n",
    "        self.balance = 0\n",
    "        print(id(self))\n",
    "        self.menu()\n",
    "        \n",
    "    def menu(self):\n",
    "        user_input = input('''\n",
    "        Hello How would you like to proceed?\n",
    "        1. Enter 1 to create pin\n",
    "        2. Enter 2 to deposit\n",
    "        3. Enter 3 to withdraw\n",
    "        4. Enter 4 to check balance\n",
    "        5. Enter 5 to exit\n",
    "        ''')\n",
    "        \n",
    "        if user_input == \"1\":\n",
    "            self.create_pin()\n",
    "        elif user_input == \"2\":\n",
    "            self.deposit()\n",
    "        elif user_input == \"3\":\n",
    "            self.withdraw()\n",
    "        elif user_input == \"4\":\n",
    "            self.check_balance()\n",
    "        else:\n",
    "            self.exit()\n",
    "            \n",
    "    def create_pin(self):\n",
    "        self.pin = input(\"Enter your pin\")\n",
    "        print(\"PIN set successfully\")\n",
    "    def deposit(self):\n",
    "        temp = input(\"Enter your PIN\")\n",
    "        if temp == self.pin:\n",
    "            amount = int(input(\"Enter the amount\"))\n",
    "            self.balance = self.balance + amount\n",
    "        else:\n",
    "            print(\"Invalid pin\")\n",
    "    def withdraw(self):\n",
    "        temp = input(\"Enter your PIN\")\n",
    "        if temp == self.pin:\n",
    "            amount = int(input(\"Enter Amount to withdraw\"))\n",
    "            if amount <= self.balance:\n",
    "                self.balance =self.balance - amount\n",
    "                print(\"Amount withdrawn successfully of amount - \", amount)\n",
    "            else:\n",
    "                print(\"Insufficient Balance\")\n",
    "        else:\n",
    "            print(\"Invalid PIN\")\n",
    "    def check_balance(self):\n",
    "        temp = input(\"Enter PIN\")\n",
    "        if temp == self.pin:\n",
    "            print(\"Available balance is -> \", self.balance)\n",
    "        else:\n",
    "            print(\"Invalid PIN\")\n",
    "    def exit(self):\n",
    "        print(\"Thank you for using our ATM\")\n",
    "            "
   ]
  },
  {
   "cell_type": "code",
   "execution_count": 4,
   "id": "719bcad2",
   "metadata": {},
   "outputs": [
    {
     "name": "stdout",
     "output_type": "stream",
     "text": [
      "1988993337184\n",
      "\n",
      "        Hello How would you like to proceed?\n",
      "        1. Enter 1 to create pin\n",
      "        2. Enter 2 to deposit\n",
      "        3. Enter 3 to withdraw\n",
      "        4. Enter 4 to check balance\n",
      "        5. Enter 5 to exit\n",
      "        5\n",
      "Thank you for using our ATM\n",
      "1988993337184\n"
     ]
    }
   ],
   "source": [
    "# ID of sbi and self is same\n",
    "sbi = Atm()\n",
    "print(id(sbi))"
   ]
  },
  {
   "cell_type": "code",
   "execution_count": null,
   "id": "5f634e01",
   "metadata": {},
   "outputs": [],
   "source": []
  },
  {
   "cell_type": "code",
   "execution_count": null,
   "id": "4e4fd1cd",
   "metadata": {},
   "outputs": [],
   "source": []
  },
  {
   "cell_type": "markdown",
   "id": "93d8fc19",
   "metadata": {},
   "source": [
    "**EXAMPLE-2 (CREATING DATATYPE)** \n",
    "- Lets create a class that can handle fractions, In python we donot have data type to handle fraction , if we enter 7/8 it gives 0.833\n",
    "\n",
    "- we will use **__ str __()** function - It is a magic method that is executed automatically when we call print(object) function\n",
    "\n",
    "- we will use **_ add __()** function - It is called automatically when we try to add two objects"
   ]
  },
  {
   "cell_type": "code",
   "execution_count": 24,
   "id": "847ce1d8",
   "metadata": {},
   "outputs": [],
   "source": [
    "class Fraction:\n",
    "    def __init__(self,n, d):\n",
    "        self.num = n\n",
    "        self.den = d\n",
    "    def __str__(self):\n",
    "        return f'{self.num}/{self.den}'\n",
    "    def __add__(self, other):\n",
    "        temp_n = self.num * other.den + other.num * self.den\n",
    "        temp_den = self.den * other.den\n",
    "        return f'{temp_n}/{temp_den}'\n",
    "    def __sub__(self, other):\n",
    "        temp_n = self.num * other.den - other.num * self.den\n",
    "        temp_den = self.den * other.den\n",
    "        return f'{temp_n}/{temp_den}'\n",
    "    def __mul__(self, other):\n",
    "        temp_n = self.num * other.num\n",
    "        temp_den = self.den * other.den\n",
    "        return f'{temp_n}/{temp_den}'\n",
    "    def __truediv__(self, other):\n",
    "        temp_n = self.num * other.den\n",
    "        temp_den = self.den * other.num\n",
    "        return f'{temp_n}/{temp_den}'"
   ]
  },
  {
   "cell_type": "code",
   "execution_count": 25,
   "id": "e2ac573f",
   "metadata": {},
   "outputs": [
    {
     "name": "stdout",
     "output_type": "stream",
     "text": [
      "7/8\n",
      "8/7\n"
     ]
    }
   ],
   "source": [
    "f= Fraction(7,8)\n",
    "f1 = Fraction(8,7)\n",
    "print(f)\n",
    "print(f1)"
   ]
  },
  {
   "cell_type": "code",
   "execution_count": 26,
   "id": "23cdff74",
   "metadata": {},
   "outputs": [
    {
     "name": "stdout",
     "output_type": "stream",
     "text": [
      "113/56\n",
      "15/56\n",
      "56/56\n",
      "64/49\n"
     ]
    }
   ],
   "source": [
    "print(f1 + f)\n",
    "print(f1 - f)\n",
    "print(f1*f)\n",
    "print(f1/f)"
   ]
  },
  {
   "cell_type": "markdown",
   "id": "c1b990f5",
   "metadata": {},
   "source": [
    "**INSTANCE VARIABLE** -\n",
    "- It is a variable written inside constructor which will be different for each object.\n",
    "\n",
    "**1. ENCAPSULATION**\n",
    "\n",
    "- for now if we want , we can access any variable as well as methods of class. Example - *sbi.balance = 'abcd'* this we can actually do , it will change the balance for sbi to abcd and then if we deposit or withdraw it will throw us error.\n",
    "\n",
    "- So it is not a good practice to let variable show to everyone , so now we can hide it.\n",
    "\n",
    "- In python we dont have access specifiers , we __ variable(double underscore var name) name to make it private. Python internally convert __ balance to _ Atm __ balance\n",
    "\n",
    "- If we try to access by providing class name and variable , then we can access so we can say that nothing in python is truly private.\n",
    "\n",
    "- we will use get and set to get the value of pin and set the value of pin, benifit is , since it is a method, we can write a condition that will allow only string value to be entered \n",
    "\n",
    "*CONCLUSION*-\n",
    "- Encapsulation help us hide data so that outsider can't change the value of it . Even if they want they can access via get and set method which will contain lots of logic, according to my logic\n",
    "\n",
    "- Main idea is to protect the data as well and let user modify the data as well with set of rules\n"
   ]
  },
  {
   "cell_type": "code",
   "execution_count": 54,
   "id": "10cd9108",
   "metadata": {},
   "outputs": [],
   "source": [
    "class Atm:\n",
    "    def __init__(self):  #we declare our data inside a special function init\n",
    "        self.__pin = \"\"\n",
    "        self.__balance = 0\n",
    "        print(id(self))\n",
    "        self.menu()\n",
    "        \n",
    "    def menu(self):\n",
    "        user_input = input('''\n",
    "        Hello How would you like to proceed?\n",
    "        1. Enter 1 to create pin\n",
    "        2. Enter 2 to deposit\n",
    "        3. Enter 3 to withdraw\n",
    "        4. Enter 4 to check balance\n",
    "        5. Enter 5 to exit\n",
    "        ''')\n",
    "        \n",
    "        if user_input == \"1\":\n",
    "            self.create_pin()\n",
    "        elif user_input == \"2\":\n",
    "            self.deposit()\n",
    "        elif user_input == \"3\":\n",
    "            self.withdraw()\n",
    "        elif user_input == \"4\":\n",
    "            self.check_balance()\n",
    "        else:\n",
    "            self.exit()\n",
    "            \n",
    "    def get_pin(self):\n",
    "        return self.pin\n",
    "    def set_pin(self, new_pin):\n",
    "        if type(new_pin) == str:\n",
    "            self.pin = new_pin\n",
    "        else:\n",
    "            print(\"Invalid format\")\n",
    "            \n",
    "    def create_pin(self):\n",
    "        self.__pin = input(\"Enter your pin\")\n",
    "        print(\"PIN set successfully\")\n",
    "    def deposit(self):\n",
    "        temp = input(\"Enter your PIN\")\n",
    "        if temp == self.__pin:\n",
    "            amount = int(input(\"Enter the amount\"))\n",
    "            self.__balance = self.__balance + amount\n",
    "        else:\n",
    "            print(\"Invalid pin\")\n",
    "    def withdraw(self):\n",
    "        temp = input(\"Enter your PIN\")\n",
    "        if temp == self.__pin:\n",
    "            amount = int(input(\"Enter Amount to withdraw\"))\n",
    "            if amount <= self.__balance:\n",
    "                self.__balance =self.__balance - amount\n",
    "                print(\"Amount withdrawn successfully of amount - \", amount)\n",
    "            else:\n",
    "                print(\"Insufficient Balance\")\n",
    "        else:\n",
    "            print(\"Invalid PIN\")\n",
    "    def check_balance(self):\n",
    "        temp = input(\"Enter PIN\")\n",
    "        if temp == self.__pin:\n",
    "            print(\"Available balance is -> \", self.__balance)\n",
    "        else:\n",
    "            print(\"Invalid PIN\")\n",
    "    def exit(self):\n",
    "        print(\"Thank you for using our ATM\")"
   ]
  },
  {
   "cell_type": "code",
   "execution_count": 55,
   "id": "896ae2c3",
   "metadata": {},
   "outputs": [
    {
     "name": "stdout",
     "output_type": "stream",
     "text": [
      "1989015065120\n",
      "\n",
      "        Hello How would you like to proceed?\n",
      "        1. Enter 1 to create pin\n",
      "        2. Enter 2 to deposit\n",
      "        3. Enter 3 to withdraw\n",
      "        4. Enter 4 to check balance\n",
      "        5. Enter 5 to exit\n",
      "        \n",
      "Thank you for using our ATM\n"
     ]
    }
   ],
   "source": [
    "sbi = Atm()"
   ]
  },
  {
   "cell_type": "code",
   "execution_count": 56,
   "id": "c04e1715",
   "metadata": {},
   "outputs": [
    {
     "ename": "AttributeError",
     "evalue": "'Atm' object has no attribute '__balance'",
     "output_type": "error",
     "traceback": [
      "\u001b[1;31m---------------------------------------------------------------------------\u001b[0m",
      "\u001b[1;31mAttributeError\u001b[0m                            Traceback (most recent call last)",
      "Input \u001b[1;32mIn [56]\u001b[0m, in \u001b[0;36m<cell line: 3>\u001b[1;34m()\u001b[0m\n\u001b[0;32m      1\u001b[0m \u001b[38;5;66;03m## Trying to access balance\u001b[39;00m\n\u001b[1;32m----> 3\u001b[0m \u001b[43msbi\u001b[49m\u001b[38;5;241;43m.\u001b[39;49m\u001b[43m__balance\u001b[49m\n",
      "\u001b[1;31mAttributeError\u001b[0m: 'Atm' object has no attribute '__balance'"
     ]
    }
   ],
   "source": [
    "## Trying to access balance\n",
    "\n",
    "sbi.__balance"
   ]
  },
  {
   "cell_type": "code",
   "execution_count": 57,
   "id": "ac60fdef",
   "metadata": {},
   "outputs": [
    {
     "data": {
      "text/plain": [
       "0"
      ]
     },
     "execution_count": 57,
     "metadata": {},
     "output_type": "execute_result"
    }
   ],
   "source": [
    "# Trying to access by adding class name\n",
    "\n",
    "sbi._Atm__balance"
   ]
  },
  {
   "cell_type": "code",
   "execution_count": 58,
   "id": "73bf7f58",
   "metadata": {},
   "outputs": [],
   "source": [
    "#accessing and assigning new pin\n",
    "sbi.set_pin('1212')"
   ]
  },
  {
   "cell_type": "code",
   "execution_count": 59,
   "id": "bf1d3e2a",
   "metadata": {},
   "outputs": [
    {
     "data": {
      "text/plain": [
       "'1212'"
      ]
     },
     "execution_count": 59,
     "metadata": {},
     "output_type": "execute_result"
    }
   ],
   "source": [
    "sbi.get_pin()"
   ]
  },
  {
   "cell_type": "code",
   "execution_count": 60,
   "id": "9521da7d",
   "metadata": {},
   "outputs": [
    {
     "name": "stdout",
     "output_type": "stream",
     "text": [
      "Invalid format\n"
     ]
    }
   ],
   "source": [
    "sbi.set_pin(54)"
   ]
  },
  {
   "cell_type": "code",
   "execution_count": null,
   "id": "bb28a778",
   "metadata": {},
   "outputs": [],
   "source": []
  }
 ],
 "metadata": {
  "kernelspec": {
   "display_name": "Python 3 (ipykernel)",
   "language": "python",
   "name": "python3"
  },
  "language_info": {
   "codemirror_mode": {
    "name": "ipython",
    "version": 3
   },
   "file_extension": ".py",
   "mimetype": "text/x-python",
   "name": "python",
   "nbconvert_exporter": "python",
   "pygments_lexer": "ipython3",
   "version": "3.9.7"
  }
 },
 "nbformat": 4,
 "nbformat_minor": 5
}

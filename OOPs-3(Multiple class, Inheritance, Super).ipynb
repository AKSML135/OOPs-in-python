{
 "cells": [
  {
   "cell_type": "markdown",
   "id": "73268b99",
   "metadata": {},
   "source": [
    "**RELATIONSHIP BETWEEN CLASSES** -\n",
    "- Aggregation (Has-a)\n",
    "- Inheritance (is-a)\n",
    "\n",
    "- Example>\n",
    "- 1) Smartphone 'is- a' Product , Car 'is a' Vehicle.\n",
    "- 2) Customer 'has a' address -> Customer -diamond------address"
   ]
  },
  {
   "cell_type": "markdown",
   "id": "69bbc74d",
   "metadata": {},
   "source": [
    "**AGGREGATION**"
   ]
  },
  {
   "cell_type": "code",
   "execution_count": 5,
   "id": "c4783483",
   "metadata": {},
   "outputs": [],
   "source": [
    "class Customer:\n",
    "    def __init__(self, name, gender, address):\n",
    "        self.name = name\n",
    "        self.gender = gender\n",
    "        self.address = address\n",
    "    def edit_profile(self,new_name, new_city, new_pincode, new_state):\n",
    "        self.name = new_name\n",
    "        self.address.change_address(new_city, new_pincode, new_state)\n",
    "        \n",
    "class Address:\n",
    "    def __init__(self, city, pincode, state):\n",
    "        self.city=city\n",
    "        self.pincode = pincode\n",
    "        self.state= state\n",
    "    def change_address(self, n_city, n_pincode, n_state):\n",
    "        self.city = n_city\n",
    "        self.pincode = n_pincode\n",
    "        self.state = n_state\n",
    "        \n",
    "\n",
    "add = Address('dhanbad',826004, 'Jharkhand')\n",
    "cust = Customer('Aman','Male', add)\n"
   ]
  },
  {
   "cell_type": "code",
   "execution_count": 6,
   "id": "7551ae14",
   "metadata": {},
   "outputs": [
    {
     "data": {
      "text/plain": [
       "826004"
      ]
     },
     "execution_count": 6,
     "metadata": {},
     "output_type": "execute_result"
    }
   ],
   "source": [
    "cust.address.pincode"
   ]
  },
  {
   "cell_type": "code",
   "execution_count": 7,
   "id": "6d2a921e",
   "metadata": {},
   "outputs": [
    {
     "data": {
      "text/plain": [
       "12201"
      ]
     },
     "execution_count": 7,
     "metadata": {},
     "output_type": "execute_result"
    }
   ],
   "source": [
    "cust.edit_profile('Raman','Gurgaon',12201, 'Delhi')\n",
    "\n",
    "cust.address.pincode"
   ]
  },
  {
   "attachments": {
    "image.png": {
     "image/png": "[encoded data removed]"
    }
   },
   "cell_type": "markdown",
   "id": "d515d0fa",
   "metadata": {},
   "source": [
    "**INHERITANCE**\n",
    "\n",
    "- Real life thing, we inherit facial features / genes from our parent.\n",
    "- Exxample - \n",
    "\n",
    "![image.png](attachment:image.png)\n",
    "\n",
    "- AS we can see Login and Registration is same for both student and teacher so , instead of repeating , we will add these two functions in parent class which is udemy and let student class and Instructor class inherit.\n",
    "\n",
    "- we can inherit anything (Data member, methods and constructor) - But we **CANNOT** inherit private functions"
   ]
  },
  {
   "cell_type": "code",
   "execution_count": 8,
   "id": "6ba344a9",
   "metadata": {},
   "outputs": [],
   "source": [
    "class User:\n",
    "    def login(self):\n",
    "        print(\"Login\")\n",
    "    def register(self):\n",
    "        print(\"Register\")\n",
    "\n",
    "class Student(User):\n",
    "    def enroll(self):\n",
    "        print(\"Enroll\")\n",
    "    def review(self):\n",
    "        print(\"Review\")"
   ]
  },
  {
   "cell_type": "code",
   "execution_count": 9,
   "id": "31d2f218",
   "metadata": {},
   "outputs": [
    {
     "name": "stdout",
     "output_type": "stream",
     "text": [
      "Enroll\n",
      "Login\n",
      "Register\n"
     ]
    }
   ],
   "source": [
    "s1 = Student()\n",
    "s1.enroll()    #accessing method of parent class\n",
    "s1.login()\n",
    "s1.register()"
   ]
  },
  {
   "cell_type": "markdown",
   "id": "435ebd8d",
   "metadata": {},
   "source": [
    "**Inheritance without constructor**\n",
    "\n",
    "- if child has no constructor and parent class has, then parent class constructor will be called."
   ]
  },
  {
   "cell_type": "code",
   "execution_count": 1,
   "id": "f1ffbce9",
   "metadata": {},
   "outputs": [
    {
     "name": "stdout",
     "output_type": "stream",
     "text": [
      "inside phone with specs - > Apple ,50000, 6\n"
     ]
    }
   ],
   "source": [
    "class Phone:\n",
    "    def __init__(self, brand, price, ram):\n",
    "        self.brand=brand\n",
    "        self.price=price\n",
    "        self.ram= ram\n",
    "        print(f\"inside phone with specs - > {self.brand} ,{self.price}, {self.ram}\")\n",
    "        \n",
    "class Smartphone(Phone):\n",
    "    pass\n",
    "\n",
    "s= Smartphone(\"Apple\", 50000, 6)"
   ]
  },
  {
   "cell_type": "markdown",
   "id": "b42e11d0",
   "metadata": {},
   "source": [
    "**Inheriting private members**\n",
    "\n",
    "- Child class **CANNOT** inherit private members"
   ]
  },
  {
   "cell_type": "code",
   "execution_count": 3,
   "id": "22b10c3c",
   "metadata": {},
   "outputs": [
    {
     "name": "stdout",
     "output_type": "stream",
     "text": [
      "inside phone with specs\n"
     ]
    },
    {
     "ename": "AttributeError",
     "evalue": "'Smartphone' object has no attribute '_Smartphone__price'",
     "output_type": "error",
     "traceback": [
      "\u001b[1;31m---------------------------------------------------------------------------\u001b[0m",
      "\u001b[1;31mAttributeError\u001b[0m                            Traceback (most recent call last)",
      "Input \u001b[1;32mIn [3]\u001b[0m, in \u001b[0;36m<cell line: 21>\u001b[1;34m()\u001b[0m\n\u001b[0;32m     17\u001b[0m         \u001b[38;5;28mprint\u001b[39m(\u001b[38;5;28mself\u001b[39m\u001b[38;5;241m.\u001b[39m__price)\n\u001b[0;32m     20\u001b[0m s\u001b[38;5;241m=\u001b[39m Smartphone(\u001b[38;5;124m\"\u001b[39m\u001b[38;5;124mApple\u001b[39m\u001b[38;5;124m\"\u001b[39m, \u001b[38;5;241m50000\u001b[39m, \u001b[38;5;241m6\u001b[39m)\n\u001b[1;32m---> 21\u001b[0m \u001b[43ms\u001b[49m\u001b[38;5;241;43m.\u001b[39;49m\u001b[43mcheck\u001b[49m\u001b[43m(\u001b[49m\u001b[43m)\u001b[49m\n",
      "Input \u001b[1;32mIn [3]\u001b[0m, in \u001b[0;36mSmartphone.check\u001b[1;34m(self)\u001b[0m\n\u001b[0;32m     16\u001b[0m \u001b[38;5;28;01mdef\u001b[39;00m \u001b[38;5;21mcheck\u001b[39m(\u001b[38;5;28mself\u001b[39m):\n\u001b[1;32m---> 17\u001b[0m     \u001b[38;5;28mprint\u001b[39m(\u001b[38;5;28;43mself\u001b[39;49m\u001b[38;5;241;43m.\u001b[39;49m\u001b[43m__price\u001b[49m)\n",
      "\u001b[1;31mAttributeError\u001b[0m: 'Smartphone' object has no attribute '_Smartphone__price'"
     ]
    }
   ],
   "source": [
    "class Phone:\n",
    "    def __init__(self, brand, price, ram):\n",
    "        self.brand=brand\n",
    "        self.__price=price\n",
    "        self.ram= ram\n",
    "        print(f\"inside phone with specs\")\n",
    "    def buy(self):\n",
    "        print(\"buying phone\")\n",
    "    def return_phone(self):\n",
    "        print(\"Returning a phone\")\n",
    "        \n",
    "class FeaturePhone(Phone):\n",
    "    pass\n",
    "\n",
    "class Smartphone(Phone):\n",
    "    def check(self):\n",
    "        print(self.__price)\n",
    "\n",
    "\n",
    "s= Smartphone(\"Apple\", 50000, 6)\n",
    "s.check()"
   ]
  },
  {
   "cell_type": "markdown",
   "id": "e1ad01be",
   "metadata": {},
   "source": [
    "- Since below we are using getter to diplay private method, son can use same getter method to display private attribute of parent class"
   ]
  },
  {
   "cell_type": "code",
   "execution_count": 5,
   "id": "b42eb85c",
   "metadata": {},
   "outputs": [
    {
     "data": {
      "text/plain": [
       "100"
      ]
     },
     "execution_count": 5,
     "metadata": {},
     "output_type": "execute_result"
    }
   ],
   "source": [
    "class Parent:\n",
    "    def __init__(self, num):\n",
    "        self.__num = num\n",
    "    def get_num(self):\n",
    "        return self.__num\n",
    "class Son(Parent):\n",
    "    pass\n",
    "\n",
    "s = Son(100)\n",
    "s.get_num()"
   ]
  },
  {
   "cell_type": "markdown",
   "id": "ad1b6ffe",
   "metadata": {},
   "source": [
    "**ANOTHER INTERESETING CASE**\n",
    "- Below , get_num gave us error even though we passed 40 for num because child class contains a constructor , we created a object of child , then same constructor got called and val was initialised but num was not initialised as constructor of parent was never called, hence no value in __num"
   ]
  },
  {
   "cell_type": "code",
   "execution_count": 7,
   "id": "a4e178b5",
   "metadata": {},
   "outputs": [
    {
     "ename": "AttributeError",
     "evalue": "'Son' object has no attribute '_Parent__num'",
     "output_type": "error",
     "traceback": [
      "\u001b[1;31m---------------------------------------------------------------------------\u001b[0m",
      "\u001b[1;31mAttributeError\u001b[0m                            Traceback (most recent call last)",
      "Input \u001b[1;32mIn [7]\u001b[0m, in \u001b[0;36m<cell line: 17>\u001b[1;34m()\u001b[0m\n\u001b[0;32m     15\u001b[0m s \u001b[38;5;241m=\u001b[39m Son(\u001b[38;5;241m100\u001b[39m,\u001b[38;5;241m40\u001b[39m)\n\u001b[0;32m     16\u001b[0m s\u001b[38;5;241m.\u001b[39mget_val()\n\u001b[1;32m---> 17\u001b[0m \u001b[43ms\u001b[49m\u001b[38;5;241;43m.\u001b[39;49m\u001b[43mget_num\u001b[49m\u001b[43m(\u001b[49m\u001b[43m)\u001b[49m\n",
      "Input \u001b[1;32mIn [7]\u001b[0m, in \u001b[0;36mParent.get_num\u001b[1;34m(self)\u001b[0m\n\u001b[0;32m      5\u001b[0m \u001b[38;5;28;01mdef\u001b[39;00m \u001b[38;5;21mget_num\u001b[39m(\u001b[38;5;28mself\u001b[39m):\n\u001b[1;32m----> 6\u001b[0m     \u001b[38;5;28;01mreturn\u001b[39;00m \u001b[38;5;28;43mself\u001b[39;49m\u001b[38;5;241;43m.\u001b[39;49m\u001b[43m__num\u001b[49m\n",
      "\u001b[1;31mAttributeError\u001b[0m: 'Son' object has no attribute '_Parent__num'"
     ]
    }
   ],
   "source": [
    "class Parent:\n",
    "    def __init__(self, num):\n",
    "        self.__num = num\n",
    "        \n",
    "    def get_num(self):\n",
    "        return self.__num\n",
    "    \n",
    "class Son(Parent):\n",
    "    def __init__(self, val, num):\n",
    "        self.__val = val\n",
    "        \n",
    "    def get_val(self):\n",
    "        return self.__val\n",
    "\n",
    "s = Son(100,40)\n",
    "s.get_val()\n",
    "s.get_num()"
   ]
  },
  {
   "cell_type": "markdown",
   "id": "87f5daa7",
   "metadata": {},
   "source": [
    "**POLYMORPHISM**\n",
    "\n",
    "- Method Overriding - we can use the same name funtion exisiting in parent class and then modify it according to current class\n",
    "- Example - we may chose software development as career even though our all ascendant chose family business. that means we are modifying def career(): of my class\n",
    "\n",
    "- Method Overloading -\n",
    "\n",
    "- Operator overloading - "
   ]
  },
  {
   "cell_type": "code",
   "execution_count": 8,
   "id": "78fc5943",
   "metadata": {},
   "outputs": [
    {
     "name": "stdout",
     "output_type": "stream",
     "text": [
      "inside phone with specs\n",
      "buying smartphone\n"
     ]
    }
   ],
   "source": [
    "class Phone:\n",
    "    def __init__(self, brand, price, ram):\n",
    "        self.brand=brand\n",
    "        self.__price=price\n",
    "        self.ram= ram\n",
    "        print(f\"inside phone with specs\")\n",
    "    def buy(self):\n",
    "        print(\"buying phone\")\n",
    "    def return_phone(self):\n",
    "        print(\"Returning a phone\")\n",
    "\n",
    "class Smartphone(Phone):\n",
    "    def buy(self):\n",
    "        print(\"buying smartphone\")\n",
    "\n",
    "\n",
    "s= Smartphone(\"Apple\", 50000, 6)\n",
    "s.buy()"
   ]
  },
  {
   "cell_type": "markdown",
   "id": "a6dcfe01",
   "metadata": {},
   "source": [
    "**SUPER KEYWORD**\n",
    "\n",
    "- Super keyword is used to call parent's member function and constructor but **not** attribute.\n",
    "- Can be written inside a child class but **not** outside class"
   ]
  },
  {
   "cell_type": "code",
   "execution_count": 11,
   "id": "6293837a",
   "metadata": {},
   "outputs": [
    {
     "name": "stdout",
     "output_type": "stream",
     "text": [
      "inside phone with specs\n",
      "buying smartphone\n",
      "buying phone\n"
     ]
    }
   ],
   "source": [
    "class Phone:\n",
    "    def __init__(self, brand, price, ram):\n",
    "        self.brand=brand\n",
    "        self.__price=price\n",
    "        self.ram= ram\n",
    "        print(f\"inside phone with specs\")\n",
    "    def buy(self):\n",
    "        print(\"buying phone\")\n",
    "\n",
    "class Smartphone(Phone):\n",
    "    def buy(self):\n",
    "        print(\"buying smartphone\")\n",
    "        super().buy()              #will call parent's buy() function\n",
    "\n",
    "s= Smartphone(\"Apple\", 50000, 6)\n",
    "s.buy()"
   ]
  },
  {
   "cell_type": "code",
   "execution_count": 12,
   "id": "7c66f222",
   "metadata": {},
   "outputs": [
    {
     "ename": "AttributeError",
     "evalue": "'Smartphone' object has no attribute 'super'",
     "output_type": "error",
     "traceback": [
      "\u001b[1;31m---------------------------------------------------------------------------\u001b[0m",
      "\u001b[1;31mAttributeError\u001b[0m                            Traceback (most recent call last)",
      "Input \u001b[1;32mIn [12]\u001b[0m, in \u001b[0;36m<cell line: 1>\u001b[1;34m()\u001b[0m\n\u001b[1;32m----> 1\u001b[0m \u001b[43ms\u001b[49m\u001b[38;5;241;43m.\u001b[39;49m\u001b[43msuper\u001b[49m()\u001b[38;5;241m.\u001b[39mbuy()\n",
      "\u001b[1;31mAttributeError\u001b[0m: 'Smartphone' object has no attribute 'super'"
     ]
    }
   ],
   "source": [
    "s.super().buy()   #outside class will not work"
   ]
  },
  {
   "cell_type": "markdown",
   "id": "5584e218",
   "metadata": {},
   "source": [
    "**SUPER WITH CONSTRUCTOR**"
   ]
  },
  {
   "cell_type": "code",
   "execution_count": 14,
   "id": "af51aa25",
   "metadata": {},
   "outputs": [
    {
     "name": "stdout",
     "output_type": "stream",
     "text": [
      "inside parent\n",
      "inside child\n"
     ]
    },
    {
     "data": {
      "text/plain": [
       "'Apple'"
      ]
     },
     "execution_count": 14,
     "metadata": {},
     "output_type": "execute_result"
    }
   ],
   "source": [
    "class Phone:\n",
    "    def __init__(self, brand):\n",
    "        self.brand=brand\n",
    "        print(f\"inside parent\")\n",
    "\n",
    "class Smartphone(Phone):\n",
    "    def __init__(self, brand, price, ram):\n",
    "        super().__init__(brand)\n",
    "        self.__price=price\n",
    "        self.ram= ram\n",
    "        print(f\"inside child\")\n",
    "s= Smartphone(\"Apple\", 50000, 6)\n",
    "s.brand"
   ]
  },
  {
   "cell_type": "markdown",
   "id": "4a0cc7a9",
   "metadata": {},
   "source": [
    "**TYPES OF INHERITANCE**"
   ]
  },
  {
   "cell_type": "markdown",
   "id": "77ccdde8",
   "metadata": {},
   "source": [
    "1. **SINGLE LEVEL**"
   ]
  },
  {
   "cell_type": "code",
   "execution_count": 15,
   "id": "edfbc3e4",
   "metadata": {},
   "outputs": [
    {
     "name": "stdout",
     "output_type": "stream",
     "text": [
      "inside phone with specs\n",
      "buying phone\n"
     ]
    }
   ],
   "source": [
    "class Phone:\n",
    "    def __init__(self, brand, price, ram):\n",
    "        self.brand=brand\n",
    "        self.__price=price\n",
    "        self.ram= ram\n",
    "        print(f\"inside phone with specs\")\n",
    "    def buy(self):\n",
    "        print(\"buying phone\")\n",
    "\n",
    "class Smartphone(Phone):\n",
    "    pass\n",
    "\n",
    "\n",
    "s= Smartphone(\"Apple\", 50000, 6)\n",
    "s.buy()"
   ]
  },
  {
   "cell_type": "markdown",
   "id": "d49be60d",
   "metadata": {},
   "source": [
    "**2. MULTI-LEVEL INHERITANCE**"
   ]
  },
  {
   "cell_type": "code",
   "execution_count": 17,
   "id": "a808ceb0",
   "metadata": {},
   "outputs": [
    {
     "name": "stdout",
     "output_type": "stream",
     "text": [
      "inside phone with specs\n",
      "I am the product\n"
     ]
    }
   ],
   "source": [
    "class Product:\n",
    "    def review(self):\n",
    "        print(\"I am the product\")\n",
    "\n",
    "class Phone(Product):\n",
    "    def __init__(self, brand, price, ram):\n",
    "        self.brand=brand\n",
    "        self.__price=price\n",
    "        self.ram= ram\n",
    "        print(f\"inside phone with specs\")\n",
    "    def buy(self):\n",
    "        print(\"buying phone\")\n",
    "\n",
    "class Smartphone(Phone):\n",
    "    pass\n",
    "\n",
    "\n",
    "s= Smartphone(\"Apple\", 50000, 6)\n",
    "s.review()"
   ]
  },
  {
   "cell_type": "markdown",
   "id": "3c4ada1e",
   "metadata": {},
   "source": [
    "**3. Hierarchical INHERITANCE**"
   ]
  },
  {
   "cell_type": "code",
   "execution_count": 19,
   "id": "f32c3a9b",
   "metadata": {},
   "outputs": [
    {
     "name": "stdout",
     "output_type": "stream",
     "text": [
      "I am the product\n",
      "I am the product\n"
     ]
    }
   ],
   "source": [
    "class Product:\n",
    "    def review(self):\n",
    "        print(\"I am the product\")\n",
    "\n",
    "class Phone(Product):\n",
    "#     def __init__(self, brand, price, ram):\n",
    "#         self.brand=brand\n",
    "#         self.__price=price\n",
    "#         self.ram= ram\n",
    "#         print(f\"inside phone with specs\")\n",
    "    def buy(self):\n",
    "        print(\"buying phone\")\n",
    "\n",
    "class Smartphone(Product):\n",
    "    pass\n",
    "\n",
    "Smartphone().review()\n",
    "Phone().review()"
   ]
  },
  {
   "cell_type": "markdown",
   "id": "eb28adba",
   "metadata": {},
   "source": [
    "**4. MULTIPLE INHERITANCE**\n",
    "\n",
    "- Whichever class is written first , will be given priority for calling constructor and functions (Method Resolution Order)"
   ]
  },
  {
   "cell_type": "code",
   "execution_count": 21,
   "id": "9c7311f9",
   "metadata": {},
   "outputs": [
    {
     "name": "stdout",
     "output_type": "stream",
     "text": [
      "Buy the product\n"
     ]
    }
   ],
   "source": [
    "class Product:\n",
    "    def buy(self):\n",
    "        print(\"Buy the product\")\n",
    "\n",
    "class Phone():\n",
    "    def buy(self):\n",
    "        print(\"buying phone\")\n",
    "\n",
    "class Smartphone(Product, Phone):\n",
    "    pass\n",
    "\n",
    "s = Smartphone()\n",
    "s.buy()"
   ]
  },
  {
   "cell_type": "markdown",
   "id": "b159b158",
   "metadata": {},
   "source": [
    "**METHOD OVERLOADING**\n",
    "\n",
    "- we can use same function to do different task, basically same function with different signature, it is possible in java but it is **NOT POSSIBLE IN PYTHON**\n"
   ]
  },
  {
   "cell_type": "code",
   "execution_count": 23,
   "id": "6ae1edd3",
   "metadata": {},
   "outputs": [
    {
     "ename": "TypeError",
     "evalue": "area() missing 1 required positional argument: 'breadth'",
     "output_type": "error",
     "traceback": [
      "\u001b[1;31m---------------------------------------------------------------------------\u001b[0m",
      "\u001b[1;31mTypeError\u001b[0m                                 Traceback (most recent call last)",
      "Input \u001b[1;32mIn [23]\u001b[0m, in \u001b[0;36m<cell line: 10>\u001b[1;34m()\u001b[0m\n\u001b[0;32m      6\u001b[0m         \u001b[38;5;28;01mreturn\u001b[39;00m length\u001b[38;5;241m*\u001b[39mbreadth\n\u001b[0;32m      8\u001b[0m obj \u001b[38;5;241m=\u001b[39m Geometry()\n\u001b[1;32m---> 10\u001b[0m \u001b[43mobj\u001b[49m\u001b[38;5;241;43m.\u001b[39;49m\u001b[43marea\u001b[49m\u001b[43m(\u001b[49m\u001b[38;5;241;43m4\u001b[39;49m\u001b[43m)\u001b[49m\n",
      "\u001b[1;31mTypeError\u001b[0m: area() missing 1 required positional argument: 'breadth'"
     ]
    }
   ],
   "source": [
    "class Geometry:\n",
    "    def area(self, radius):\n",
    "        return 3.14*radius*radius\n",
    "    \n",
    "    def area(self, length, breadth):    #overrided previous method\n",
    "        return length*breadth\n",
    "    \n",
    "obj = Geometry()\n",
    "\n",
    "obj.area(4)"
   ]
  },
  {
   "cell_type": "code",
   "execution_count": 26,
   "id": "f7dcf0b7",
   "metadata": {},
   "outputs": [
    {
     "name": "stdout",
     "output_type": "stream",
     "text": [
      "Circle area  50.24\n",
      "Rectangle area  20\n"
     ]
    }
   ],
   "source": [
    "# we can make it work though\n",
    "\n",
    "class Geometry:\n",
    "    def area(self, a,b=0):\n",
    "        if b==0:\n",
    "            print(\"Circle area \", 3.14*a*a)\n",
    "        else:\n",
    "            print(\"Rectangle area \",a*b)\n",
    "    \n",
    "obj = Geometry()\n",
    "\n",
    "obj.area(4)\n",
    "obj.area(4,5)"
   ]
  },
  {
   "cell_type": "markdown",
   "id": "1211e1fd",
   "metadata": {},
   "source": [
    "**OPERATOR OVERLOADING**\n",
    "\n",
    "- Changing the meaning of exisiting operator (+,-,*,/), with custom logic"
   ]
  },
  {
   "cell_type": "code",
   "execution_count": 27,
   "id": "4d9d2bc4",
   "metadata": {},
   "outputs": [],
   "source": [
    "class Fraction:\n",
    "    def __init__(self, num, den):\n",
    "        self.num = num\n",
    "        self.den=den\n",
    "    def __str__(self):\n",
    "        return f'{self.num}/{self.den}'\n",
    "    \n",
    "    def __add__(self, other):\n",
    "        temp = self.num*other.den + self.den*other.num\n",
    "        temp_den = self.den*other.den\n",
    "        return f'{temp}/{temp_den}'"
   ]
  },
  {
   "cell_type": "code",
   "execution_count": 28,
   "id": "0c1b335f",
   "metadata": {},
   "outputs": [
    {
     "name": "stdout",
     "output_type": "stream",
     "text": [
      "7/8\n"
     ]
    }
   ],
   "source": [
    "f = Fraction(7,8)\n",
    "f2 = Fraction(8,7)\n",
    "\n",
    "print(f)"
   ]
  },
  {
   "cell_type": "code",
   "execution_count": 29,
   "id": "87b69c26",
   "metadata": {},
   "outputs": [
    {
     "name": "stdout",
     "output_type": "stream",
     "text": [
      "113/56\n"
     ]
    }
   ],
   "source": [
    "print(f + f2)"
   ]
  },
  {
   "cell_type": "code",
   "execution_count": null,
   "id": "9946d946",
   "metadata": {},
   "outputs": [],
   "source": []
  }
 ],
 "metadata": {
  "kernelspec": {
   "display_name": "Python 3 (ipykernel)",
   "language": "python",
   "name": "python3"
  },
  "language_info": {
   "codemirror_mode": {
    "name": "ipython",
    "version": 3
   },
   "file_extension": ".py",
   "mimetype": "text/x-python",
   "name": "python",
   "nbconvert_exporter": "python",
   "pygments_lexer": "ipython3",
   "version": "3.9.7"
  }
 },
 "nbformat": 4,
 "nbformat_minor": 5
}
